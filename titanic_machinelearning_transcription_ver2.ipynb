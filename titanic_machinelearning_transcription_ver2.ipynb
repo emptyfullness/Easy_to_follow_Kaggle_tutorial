{
 "cells": [
  {
   "cell_type": "markdown",
   "id": "d81a24b4",
   "metadata": {},
   "source": [
    "# 해당 튜토리얼은 이유한님의 https://kaggle-kr.tistory.com/18?category=868316 따라하여 진행하였습니다.\n",
    "- 숙달하기 위해 필사를 하며 진행하였습니다."
   ]
  },
  {
   "cell_type": "code",
   "execution_count": 8,
   "id": "716e558e",
   "metadata": {},
   "outputs": [
    {
     "data": {
      "text/html": [
       "        <script type=\"text/javascript\">\n",
       "        window.PlotlyConfig = {MathJaxConfig: 'local'};\n",
       "        if (window.MathJax) {MathJax.Hub.Config({SVG: {font: \"STIX-Web\"}});}\n",
       "        if (typeof require !== 'undefined') {\n",
       "        require.undef(\"plotly\");\n",
       "        requirejs.config({\n",
       "            paths: {\n",
       "                'plotly': ['https://cdn.plot.ly/plotly-2.6.3.min']\n",
       "            }\n",
       "        });\n",
       "        require(['plotly'], function(Plotly) {\n",
       "            window._Plotly = Plotly;\n",
       "        });\n",
       "        }\n",
       "        </script>\n",
       "        "
      ]
     },
     "metadata": {},
     "output_type": "display_data"
    }
   ],
   "source": [
    "import numpy as np\n",
    "import pandas as pd\n",
    "from pandas import Series\n",
    "import matplotlib.pyplot as plt\n",
    "import seaborn as sns\n",
    "\n",
    "plt.style.use('seaborn')\n",
    "sns.set(font_scale=2.5) # 이 두줄은 본 필자가 항상 쓰는 방법입니다. matplotlib 의 기본 scheme 말고 seaborn scheme 을 세팅하고, 일일이 graph 의 font size 를 지정할 필요 없이 seaborn 의 font_scale 을 사용하면 편합니다.\n",
    "import plotly.offline as py\n",
    "py.init_notebook_mode(connected=True)\n",
    "import plotly.graph_objs as go\n",
    "import plotly.tools as tls\n",
    "\n",
    "#ignore warnings\n",
    "import warnings\n",
    "warnings.filterwarnings('ignore')\n",
    "\n",
    "\n",
    "\n",
    "%matplotlib inline\n",
    "\n",
    "df_train = pd.read_csv('./data1/train.csv')\n",
    "df_test = pd.read_csv('./data1/test.csv')\n",
    "df_train['FamilySize'] = df_train['SibSp'] + df_train['Parch'] + 1 # 자신을 포함해야하니 1을 더합니다\n",
    "df_test['FamilySize'] = df_test['SibSp'] + df_test['Parch'] + 1 # 자신을 포함해야하니 1을 더합니다\n",
    "\n",
    "df_test.loc[df_test.Fare.isnull(), 'Fare'] = df_test['Fare'].mean()\n",
    "\n",
    "df_train['Fare'] = df_train['Fare'].map(lambda i: np.log(i) if i > 0 else 0)\n",
    "df_test['Fare'] = df_test['Fare'].map(lambda i: np.log(i) if i > 0 else 0)"
   ]
  },
  {
   "cell_type": "code",
   "execution_count": 9,
   "id": "ec90369c",
   "metadata": {},
   "outputs": [],
   "source": [
    "#Fill Null in Age using title\n",
    "df_train['Initial']= df_train.Name.str.extract('([A-Za-z]+)\\.') #lets extract the Salutations\n",
    "    \n",
    "df_test['Initial']= df_test.Name.str.extract('([A-Za-z]+)\\.') #lets extract the Salutations"
   ]
  },
  {
   "cell_type": "code",
   "execution_count": 10,
   "id": "474d574c",
   "metadata": {},
   "outputs": [
    {
     "data": {
      "text/html": [
       "<style  type=\"text/css\" >\n",
       "#T_c591a_row0_col0,#T_c591a_row0_col1,#T_c591a_row0_col3,#T_c591a_row0_col4,#T_c591a_row0_col5,#T_c591a_row0_col7,#T_c591a_row0_col8,#T_c591a_row0_col12,#T_c591a_row0_col15,#T_c591a_row0_col16,#T_c591a_row1_col2,#T_c591a_row1_col6,#T_c591a_row1_col9,#T_c591a_row1_col10,#T_c591a_row1_col11,#T_c591a_row1_col13,#T_c591a_row1_col14{\n",
       "            background-color:  #ffff66;\n",
       "            color:  #000000;\n",
       "        }#T_c591a_row0_col2,#T_c591a_row0_col6,#T_c591a_row0_col9,#T_c591a_row0_col10,#T_c591a_row0_col11,#T_c591a_row0_col13,#T_c591a_row0_col14,#T_c591a_row1_col0,#T_c591a_row1_col1,#T_c591a_row1_col3,#T_c591a_row1_col4,#T_c591a_row1_col5,#T_c591a_row1_col7,#T_c591a_row1_col8,#T_c591a_row1_col12,#T_c591a_row1_col15,#T_c591a_row1_col16{\n",
       "            background-color:  #008066;\n",
       "            color:  #f1f1f1;\n",
       "        }</style><table id=\"T_c591a_\" ><thead>    <tr>        <th class=\"index_name level0\" >Initial</th>        <th class=\"col_heading level0 col0\" >Capt</th>        <th class=\"col_heading level0 col1\" >Col</th>        <th class=\"col_heading level0 col2\" >Countess</th>        <th class=\"col_heading level0 col3\" >Don</th>        <th class=\"col_heading level0 col4\" >Dr</th>        <th class=\"col_heading level0 col5\" >Jonkheer</th>        <th class=\"col_heading level0 col6\" >Lady</th>        <th class=\"col_heading level0 col7\" >Major</th>        <th class=\"col_heading level0 col8\" >Master</th>        <th class=\"col_heading level0 col9\" >Miss</th>        <th class=\"col_heading level0 col10\" >Mlle</th>        <th class=\"col_heading level0 col11\" >Mme</th>        <th class=\"col_heading level0 col12\" >Mr</th>        <th class=\"col_heading level0 col13\" >Mrs</th>        <th class=\"col_heading level0 col14\" >Ms</th>        <th class=\"col_heading level0 col15\" >Rev</th>        <th class=\"col_heading level0 col16\" >Sir</th>    </tr>    <tr>        <th class=\"index_name level0\" >Sex</th>        <th class=\"blank\" ></th>        <th class=\"blank\" ></th>        <th class=\"blank\" ></th>        <th class=\"blank\" ></th>        <th class=\"blank\" ></th>        <th class=\"blank\" ></th>        <th class=\"blank\" ></th>        <th class=\"blank\" ></th>        <th class=\"blank\" ></th>        <th class=\"blank\" ></th>        <th class=\"blank\" ></th>        <th class=\"blank\" ></th>        <th class=\"blank\" ></th>        <th class=\"blank\" ></th>        <th class=\"blank\" ></th>        <th class=\"blank\" ></th>        <th class=\"blank\" ></th>    </tr></thead><tbody>\n",
       "                <tr>\n",
       "                        <th id=\"T_c591a_level0_row0\" class=\"row_heading level0 row0\" >female</th>\n",
       "                        <td id=\"T_c591a_row0_col0\" class=\"data row0 col0\" >0</td>\n",
       "                        <td id=\"T_c591a_row0_col1\" class=\"data row0 col1\" >0</td>\n",
       "                        <td id=\"T_c591a_row0_col2\" class=\"data row0 col2\" >1</td>\n",
       "                        <td id=\"T_c591a_row0_col3\" class=\"data row0 col3\" >0</td>\n",
       "                        <td id=\"T_c591a_row0_col4\" class=\"data row0 col4\" >1</td>\n",
       "                        <td id=\"T_c591a_row0_col5\" class=\"data row0 col5\" >0</td>\n",
       "                        <td id=\"T_c591a_row0_col6\" class=\"data row0 col6\" >1</td>\n",
       "                        <td id=\"T_c591a_row0_col7\" class=\"data row0 col7\" >0</td>\n",
       "                        <td id=\"T_c591a_row0_col8\" class=\"data row0 col8\" >0</td>\n",
       "                        <td id=\"T_c591a_row0_col9\" class=\"data row0 col9\" >182</td>\n",
       "                        <td id=\"T_c591a_row0_col10\" class=\"data row0 col10\" >2</td>\n",
       "                        <td id=\"T_c591a_row0_col11\" class=\"data row0 col11\" >1</td>\n",
       "                        <td id=\"T_c591a_row0_col12\" class=\"data row0 col12\" >0</td>\n",
       "                        <td id=\"T_c591a_row0_col13\" class=\"data row0 col13\" >125</td>\n",
       "                        <td id=\"T_c591a_row0_col14\" class=\"data row0 col14\" >1</td>\n",
       "                        <td id=\"T_c591a_row0_col15\" class=\"data row0 col15\" >0</td>\n",
       "                        <td id=\"T_c591a_row0_col16\" class=\"data row0 col16\" >0</td>\n",
       "            </tr>\n",
       "            <tr>\n",
       "                        <th id=\"T_c591a_level0_row1\" class=\"row_heading level0 row1\" >male</th>\n",
       "                        <td id=\"T_c591a_row1_col0\" class=\"data row1 col0\" >1</td>\n",
       "                        <td id=\"T_c591a_row1_col1\" class=\"data row1 col1\" >2</td>\n",
       "                        <td id=\"T_c591a_row1_col2\" class=\"data row1 col2\" >0</td>\n",
       "                        <td id=\"T_c591a_row1_col3\" class=\"data row1 col3\" >1</td>\n",
       "                        <td id=\"T_c591a_row1_col4\" class=\"data row1 col4\" >6</td>\n",
       "                        <td id=\"T_c591a_row1_col5\" class=\"data row1 col5\" >1</td>\n",
       "                        <td id=\"T_c591a_row1_col6\" class=\"data row1 col6\" >0</td>\n",
       "                        <td id=\"T_c591a_row1_col7\" class=\"data row1 col7\" >2</td>\n",
       "                        <td id=\"T_c591a_row1_col8\" class=\"data row1 col8\" >40</td>\n",
       "                        <td id=\"T_c591a_row1_col9\" class=\"data row1 col9\" >0</td>\n",
       "                        <td id=\"T_c591a_row1_col10\" class=\"data row1 col10\" >0</td>\n",
       "                        <td id=\"T_c591a_row1_col11\" class=\"data row1 col11\" >0</td>\n",
       "                        <td id=\"T_c591a_row1_col12\" class=\"data row1 col12\" >517</td>\n",
       "                        <td id=\"T_c591a_row1_col13\" class=\"data row1 col13\" >0</td>\n",
       "                        <td id=\"T_c591a_row1_col14\" class=\"data row1 col14\" >0</td>\n",
       "                        <td id=\"T_c591a_row1_col15\" class=\"data row1 col15\" >6</td>\n",
       "                        <td id=\"T_c591a_row1_col16\" class=\"data row1 col16\" >1</td>\n",
       "            </tr>\n",
       "    </tbody></table>"
      ],
      "text/plain": [
       "<pandas.io.formats.style.Styler at 0x1c9244de490>"
      ]
     },
     "execution_count": 10,
     "metadata": {},
     "output_type": "execute_result"
    }
   ],
   "source": [
    "pd.crosstab(df_train['Initial'], df_train['Sex']).T.style.background_gradient(cmap='summer_r') #Checking the Initials with the Sex"
   ]
  },
  {
   "cell_type": "code",
   "execution_count": 13,
   "id": "663a51f5",
   "metadata": {},
   "outputs": [],
   "source": [
    "df_train['Initial'].replace(['Mlle','Mme','Ms','Dr','Major','Lady','Countess','Jonkheer','Col','Rev','Capt','Sir','Don', 'Dona'],\n",
    "                        ['Miss','Miss','Miss','Mr','Mr','Mrs','Mrs','Other','Other','Other','Mr','Mr','Mr', 'Mr'],inplace=True)\n",
    "\n",
    "df_test['Initial'].replace(['Mlle','Mme','Ms','Dr','Major','Lady','Countess','Jonkheer','Col','Rev','Capt','Sir','Don', 'Dona'],\n",
    "                        ['Miss','Miss','Miss','Mr','Mr','Mrs','Mrs','Other','Other','Other','Mr','Mr','Mr', 'Mr'],inplace=True)"
   ]
  },
  {
   "cell_type": "code",
   "execution_count": 14,
   "id": "3d8e0f89",
   "metadata": {},
   "outputs": [
    {
     "ename": "SyntaxError",
     "evalue": "unmatched ')' (<ipython-input-14-a2874f418e0c>, line 1)",
     "output_type": "error",
     "traceback": [
      "\u001b[1;36m  File \u001b[1;32m\"<ipython-input-14-a2874f418e0c>\"\u001b[1;36m, line \u001b[1;32m1\u001b[0m\n\u001b[1;33m    df_train.groupby('Initial').mean()['Miss','Miss','Miss','Mr','Mr','Mrs','Mrs','Other','Other','Other','Mr','Mr','Mr', 'Mr'],inplace=True)\u001b[0m\n\u001b[1;37m                                                                                                                                            ^\u001b[0m\n\u001b[1;31mSyntaxError\u001b[0m\u001b[1;31m:\u001b[0m unmatched ')'\n"
     ]
    }
   ],
   "source": [
    "df_train.groupby('Initial').mean()['Miss','Miss','Miss','Mr','Mr','Mrs','Mrs','Other','Other','Other','Mr','Mr','Mr', 'Mr'],inplace=True)"
   ]
  },
  {
   "cell_type": "code",
   "execution_count": null,
   "id": "f428b927",
   "metadata": {},
   "outputs": [],
   "source": []
  }
 ],
 "metadata": {
  "kernelspec": {
   "display_name": "Python 3",
   "language": "python",
   "name": "python3"
  },
  "language_info": {
   "codemirror_mode": {
    "name": "ipython",
    "version": 3
   },
   "file_extension": ".py",
   "mimetype": "text/x-python",
   "name": "python",
   "nbconvert_exporter": "python",
   "pygments_lexer": "ipython3",
   "version": "3.8.9"
  }
 },
 "nbformat": 4,
 "nbformat_minor": 5
}
